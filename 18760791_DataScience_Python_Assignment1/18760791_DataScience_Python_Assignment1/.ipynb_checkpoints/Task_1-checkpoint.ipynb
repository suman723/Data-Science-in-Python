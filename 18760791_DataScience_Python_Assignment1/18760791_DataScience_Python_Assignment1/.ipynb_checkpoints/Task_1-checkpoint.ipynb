{
 "cells": [
  {
   "cell_type": "markdown",
   "metadata": {},
   "source": [
    "## COMP30760 Assignment 1 Task 1\n",
    "### Student Name: Suman Kumar Shil\n",
    "### Student ID: 18760791\n",
    "In this task the climate data (specifically rainfall and temperature) are collected from https://datahelpdesk.worldbank.org/knowledgebase/articles/902061-climate-data-api.\n",
    "The datasets of different countries and attributes are parsed and saved in csv format files."
   ]
  },
  {
   "cell_type": "code",
   "execution_count": 9,
   "metadata": {},
   "outputs": [],
   "source": [
    "# importing necessary libraries\n",
    "import requests\n",
    "import pandas as pd"
   ]
  },
  {
   "cell_type": "markdown",
   "metadata": {},
   "source": [
    "### Climate Data collection from API"
   ]
  },
  {
   "cell_type": "code",
   "execution_count": 10,
   "metadata": {},
   "outputs": [],
   "source": [
    "# Collecting climate attributes (temperature in degree C, rainfall in mm) for five countries (Australia, Great Britain,USA,IND,BRA)\n",
    "c_codes = ['AUS','USA','GBR','IND','BRA']\n",
    "atts = ['pr','tas']\n",
    "# Saving collected raw datasets into CSV files\n",
    "# loop for loading data for three countries AUS, USA, GBR, IND and BRA\n",
    "for c in c_codes:\n",
    "    # loop for loading temperature and precipitation values\n",
    "    for a in atts:\n",
    "        # API link to collect data\n",
    "        rapi = requests.get('http://climatedataapi.worldbank.org/climateweb/rest/v1/country/cru/'+a+'/year/'+c+'.csv')\n",
    "        data = rapi.text\n",
    "        # writing the collected data in a csv file\n",
    "        with open(c+'-'+a+'.csv', 'w') as wf:\n",
    "            wf.write(data)"
   ]
  },
  {
   "cell_type": "markdown",
   "metadata": {},
   "source": [
    "### Display of sample first 5 rows of collected datasets"
   ]
  },
  {
   "cell_type": "code",
   "execution_count": 3,
   "metadata": {},
   "outputs": [
    {
     "name": "stdout",
     "output_type": "stream",
     "text": [
      "Sample data for Country: AUS, Attribute: pr\n",
      "   year       data\n",
      "0  1901  36.893700\n",
      "1  1902  27.890614\n",
      "2  1903  43.456768\n",
      "3  1904  39.251026\n",
      "4  1905  30.674429\n",
      "Sample data for Country: AUS, Attribute: tas\n",
      "   year       data\n",
      "0  1901  21.357021\n",
      "1  1902  21.382462\n",
      "2  1903  20.936884\n",
      "3  1904  20.791357\n",
      "4  1905  20.954510\n",
      "Sample data for Country: USA, Attribute: pr\n",
      "   year       data\n",
      "0  1901  53.452919\n",
      "1  1902  56.929211\n",
      "2  1903  54.475258\n",
      "3  1904  51.814545\n",
      "4  1905  57.633362\n",
      "Sample data for Country: USA, Attribute: tas\n",
      "   year      data\n",
      "0  1901  6.618749\n",
      "1  1902  6.464327\n",
      "2  1903  6.073844\n",
      "3  1904  6.149883\n",
      "4  1905  6.599617\n",
      "Sample data for Country: GBR, Attribute: pr\n",
      "   year        data\n",
      "0  1901   89.739784\n",
      "1  1902   84.223152\n",
      "2  1903  119.318466\n",
      "3  1904   91.663483\n",
      "4  1905   89.656570\n",
      "Sample data for Country: GBR, Attribute: tas\n",
      "   year      data\n",
      "0  1901  8.163601\n",
      "1  1902  7.798388\n",
      "2  1903  8.028578\n",
      "3  1904  8.073899\n",
      "4  1905  8.185888\n",
      "Sample data for Country: IND, Attribute: pr\n",
      "   year       data\n",
      "0  1901  78.794868\n",
      "1  1902  84.403305\n",
      "2  1903  91.743271\n",
      "3  1904  80.097961\n",
      "4  1905  78.166786\n",
      "Sample data for Country: IND, Attribute: tas\n",
      "   year       data\n",
      "0  1901  23.736393\n",
      "1  1902  23.920109\n",
      "2  1903  23.434696\n",
      "3  1904  23.456589\n",
      "4  1905  23.266140\n",
      "Sample data for Country: BRA, Attribute: pr\n",
      "   year        data\n",
      "0  1901  147.834610\n",
      "1  1902  146.871475\n",
      "2  1903  145.657379\n",
      "3  1904  146.214066\n",
      "4  1905  149.617096\n",
      "Sample data for Country: BRA, Attribute: tas\n",
      "   year       data\n",
      "0  1901  24.896547\n",
      "1  1902  25.091810\n",
      "2  1903  24.896107\n",
      "3  1904  24.527473\n",
      "4  1905  24.840496\n"
     ]
    }
   ],
   "source": [
    "# Displaying all datasets in successive DataFrames\n",
    "for c in c_codes:\n",
    "    for a in atts:\n",
    "        print('Sample data for Country: %s, Attribute: %s' %(c,a))\n",
    "        df = pd.read_csv(c+'-'+a+'.csv')\n",
    "        print(df.head())"
   ]
  },
  {
   "cell_type": "code",
   "execution_count": null,
   "metadata": {},
   "outputs": [],
   "source": []
  }
 ],
 "metadata": {
  "kernelspec": {
   "display_name": "Python 3",
   "language": "python",
   "name": "python3"
  },
  "language_info": {
   "codemirror_mode": {
    "name": "ipython",
    "version": 3
   },
   "file_extension": ".py",
   "mimetype": "text/x-python",
   "name": "python",
   "nbconvert_exporter": "python",
   "pygments_lexer": "ipython3",
   "version": "3.8.8"
  }
 },
 "nbformat": 4,
 "nbformat_minor": 4
}
