{
 "cells": [
  {
   "cell_type": "markdown",
   "metadata": {},
   "source": [
    "## COMP30760 Assignment 1 Task 2\n",
    "### Student Name: Suman Kumar Shil\n",
    "### Student ID: 18760791\n",
    "\n",
    "In this part the saved csv files containing the yearly data of Australia, US, UK, Brazil and India are loaded, pre-processed, data verification for cleaning, filtering and then analysed by statistical functions and insights are displayed by means of visuals like line chart, histograms, bar charts and scatterplots."
   ]
  },
  {
   "cell_type": "code",
   "execution_count": 110,
   "metadata": {},
   "outputs": [],
   "source": [
    "# importing necessary libraries\n",
    "import pandas as pd\n",
    "import matplotlib.pyplot as plt\n",
    "import seaborn as sns\n",
    "import numpy as np"
   ]
  },
  {
   "cell_type": "markdown",
   "metadata": {},
   "source": [
    "### Data Preprocessing"
   ]
  },
  {
   "cell_type": "markdown",
   "metadata": {},
   "source": [
    "#### Parsing datasets and merging"
   ]
  },
  {
   "cell_type": "code",
   "execution_count": 111,
   "metadata": {},
   "outputs": [
    {
     "data": {
      "text/html": [
       "<div>\n",
       "<style scoped>\n",
       "    .dataframe tbody tr th:only-of-type {\n",
       "        vertical-align: middle;\n",
       "    }\n",
       "\n",
       "    .dataframe tbody tr th {\n",
       "        vertical-align: top;\n",
       "    }\n",
       "\n",
       "    .dataframe thead th {\n",
       "        text-align: right;\n",
       "    }\n",
       "</style>\n",
       "<table border=\"1\" class=\"dataframe\">\n",
       "  <thead>\n",
       "    <tr style=\"text-align: right;\">\n",
       "      <th></th>\n",
       "      <th>year</th>\n",
       "      <th>rainfall_mm</th>\n",
       "      <th>temp_C</th>\n",
       "      <th>country</th>\n",
       "    </tr>\n",
       "  </thead>\n",
       "  <tbody>\n",
       "    <tr>\n",
       "      <th>0</th>\n",
       "      <td>1901</td>\n",
       "      <td>36.893700</td>\n",
       "      <td>21.357021</td>\n",
       "      <td>AUS</td>\n",
       "    </tr>\n",
       "    <tr>\n",
       "      <th>1</th>\n",
       "      <td>1902</td>\n",
       "      <td>27.890614</td>\n",
       "      <td>21.382462</td>\n",
       "      <td>AUS</td>\n",
       "    </tr>\n",
       "    <tr>\n",
       "      <th>2</th>\n",
       "      <td>1903</td>\n",
       "      <td>43.456768</td>\n",
       "      <td>20.936884</td>\n",
       "      <td>AUS</td>\n",
       "    </tr>\n",
       "    <tr>\n",
       "      <th>3</th>\n",
       "      <td>1904</td>\n",
       "      <td>39.251026</td>\n",
       "      <td>20.791357</td>\n",
       "      <td>AUS</td>\n",
       "    </tr>\n",
       "    <tr>\n",
       "      <th>4</th>\n",
       "      <td>1905</td>\n",
       "      <td>30.674429</td>\n",
       "      <td>20.954510</td>\n",
       "      <td>AUS</td>\n",
       "    </tr>\n",
       "    <tr>\n",
       "      <th>...</th>\n",
       "      <td>...</td>\n",
       "      <td>...</td>\n",
       "      <td>...</td>\n",
       "      <td>...</td>\n",
       "    </tr>\n",
       "    <tr>\n",
       "      <th>107</th>\n",
       "      <td>2008</td>\n",
       "      <td>37.755333</td>\n",
       "      <td>21.503962</td>\n",
       "      <td>AUS</td>\n",
       "    </tr>\n",
       "    <tr>\n",
       "      <th>108</th>\n",
       "      <td>2009</td>\n",
       "      <td>40.328209</td>\n",
       "      <td>21.921940</td>\n",
       "      <td>AUS</td>\n",
       "    </tr>\n",
       "    <tr>\n",
       "      <th>109</th>\n",
       "      <td>2010</td>\n",
       "      <td>59.149860</td>\n",
       "      <td>21.302647</td>\n",
       "      <td>AUS</td>\n",
       "    </tr>\n",
       "    <tr>\n",
       "      <th>110</th>\n",
       "      <td>2011</td>\n",
       "      <td>52.675598</td>\n",
       "      <td>21.217350</td>\n",
       "      <td>AUS</td>\n",
       "    </tr>\n",
       "    <tr>\n",
       "      <th>111</th>\n",
       "      <td>2012</td>\n",
       "      <td>41.835381</td>\n",
       "      <td>21.534817</td>\n",
       "      <td>AUS</td>\n",
       "    </tr>\n",
       "  </tbody>\n",
       "</table>\n",
       "<p>112 rows × 4 columns</p>\n",
       "</div>"
      ],
      "text/plain": [
       "     year  rainfall_mm     temp_C country\n",
       "0    1901    36.893700  21.357021     AUS\n",
       "1    1902    27.890614  21.382462     AUS\n",
       "2    1903    43.456768  20.936884     AUS\n",
       "3    1904    39.251026  20.791357     AUS\n",
       "4    1905    30.674429  20.954510     AUS\n",
       "..    ...          ...        ...     ...\n",
       "107  2008    37.755333  21.503962     AUS\n",
       "108  2009    40.328209  21.921940     AUS\n",
       "109  2010    59.149860  21.302647     AUS\n",
       "110  2011    52.675598  21.217350     AUS\n",
       "111  2012    41.835381  21.534817     AUS\n",
       "\n",
       "[112 rows x 4 columns]"
      ]
     },
     "execution_count": 111,
     "metadata": {},
     "output_type": "execute_result"
    }
   ],
   "source": [
    "# parsing yearly temperature and rainfall data for Australia\n",
    "au1 = pd.read_csv('AUS-pr.csv')\n",
    "au1 = au1.rename(columns={'data':'rainfall_mm'})\n",
    "au2 = pd.read_csv('AUS-tas.csv')\n",
    "au2 = au2.rename(columns={'data':'temp_C'})\n",
    "au = au1.merge(au2,on='year',how='left')\n",
    "au['country'] = 'AUS'\n",
    "au"
   ]
  },
  {
   "cell_type": "code",
   "execution_count": 112,
   "metadata": {},
   "outputs": [
    {
     "data": {
      "text/html": [
       "<div>\n",
       "<style scoped>\n",
       "    .dataframe tbody tr th:only-of-type {\n",
       "        vertical-align: middle;\n",
       "    }\n",
       "\n",
       "    .dataframe tbody tr th {\n",
       "        vertical-align: top;\n",
       "    }\n",
       "\n",
       "    .dataframe thead th {\n",
       "        text-align: right;\n",
       "    }\n",
       "</style>\n",
       "<table border=\"1\" class=\"dataframe\">\n",
       "  <thead>\n",
       "    <tr style=\"text-align: right;\">\n",
       "      <th></th>\n",
       "      <th>year</th>\n",
       "      <th>rainfall_mm</th>\n",
       "      <th>temp_C</th>\n",
       "      <th>country</th>\n",
       "    </tr>\n",
       "  </thead>\n",
       "  <tbody>\n",
       "    <tr>\n",
       "      <th>0</th>\n",
       "      <td>1901</td>\n",
       "      <td>53.452919</td>\n",
       "      <td>6.618749</td>\n",
       "      <td>USA</td>\n",
       "    </tr>\n",
       "    <tr>\n",
       "      <th>1</th>\n",
       "      <td>1902</td>\n",
       "      <td>56.929211</td>\n",
       "      <td>6.464327</td>\n",
       "      <td>USA</td>\n",
       "    </tr>\n",
       "    <tr>\n",
       "      <th>2</th>\n",
       "      <td>1903</td>\n",
       "      <td>54.475258</td>\n",
       "      <td>6.073844</td>\n",
       "      <td>USA</td>\n",
       "    </tr>\n",
       "    <tr>\n",
       "      <th>3</th>\n",
       "      <td>1904</td>\n",
       "      <td>51.814545</td>\n",
       "      <td>6.149883</td>\n",
       "      <td>USA</td>\n",
       "    </tr>\n",
       "    <tr>\n",
       "      <th>4</th>\n",
       "      <td>1905</td>\n",
       "      <td>57.633362</td>\n",
       "      <td>6.599617</td>\n",
       "      <td>USA</td>\n",
       "    </tr>\n",
       "    <tr>\n",
       "      <th>...</th>\n",
       "      <td>...</td>\n",
       "      <td>...</td>\n",
       "      <td>...</td>\n",
       "      <td>...</td>\n",
       "    </tr>\n",
       "    <tr>\n",
       "      <th>107</th>\n",
       "      <td>2008</td>\n",
       "      <td>58.170464</td>\n",
       "      <td>6.935361</td>\n",
       "      <td>USA</td>\n",
       "    </tr>\n",
       "    <tr>\n",
       "      <th>108</th>\n",
       "      <td>2009</td>\n",
       "      <td>56.836555</td>\n",
       "      <td>7.102065</td>\n",
       "      <td>USA</td>\n",
       "    </tr>\n",
       "    <tr>\n",
       "      <th>109</th>\n",
       "      <td>2010</td>\n",
       "      <td>58.305126</td>\n",
       "      <td>7.409120</td>\n",
       "      <td>USA</td>\n",
       "    </tr>\n",
       "    <tr>\n",
       "      <th>110</th>\n",
       "      <td>2011</td>\n",
       "      <td>59.187828</td>\n",
       "      <td>7.405612</td>\n",
       "      <td>USA</td>\n",
       "    </tr>\n",
       "    <tr>\n",
       "      <th>111</th>\n",
       "      <td>2012</td>\n",
       "      <td>56.289928</td>\n",
       "      <td>7.939524</td>\n",
       "      <td>USA</td>\n",
       "    </tr>\n",
       "  </tbody>\n",
       "</table>\n",
       "<p>112 rows × 4 columns</p>\n",
       "</div>"
      ],
      "text/plain": [
       "     year  rainfall_mm    temp_C country\n",
       "0    1901    53.452919  6.618749     USA\n",
       "1    1902    56.929211  6.464327     USA\n",
       "2    1903    54.475258  6.073844     USA\n",
       "3    1904    51.814545  6.149883     USA\n",
       "4    1905    57.633362  6.599617     USA\n",
       "..    ...          ...       ...     ...\n",
       "107  2008    58.170464  6.935361     USA\n",
       "108  2009    56.836555  7.102065     USA\n",
       "109  2010    58.305126  7.409120     USA\n",
       "110  2011    59.187828  7.405612     USA\n",
       "111  2012    56.289928  7.939524     USA\n",
       "\n",
       "[112 rows x 4 columns]"
      ]
     },
     "execution_count": 112,
     "metadata": {},
     "output_type": "execute_result"
    }
   ],
   "source": [
    "# parsing yearly temperature and rainfall data for US\n",
    "us1 = pd.read_csv('USA-pr.csv')\n",
    "us1 = us1.rename(columns={'data':'rainfall_mm'})\n",
    "us2 = pd.read_csv('USA-tas.csv')\n",
    "us2 = us2.rename(columns={'data':'temp_C'})\n",
    "us = us1.merge(us2,on='year',how='left')\n",
    "us['country'] = 'USA'\n",
    "us"
   ]
  },
  {
   "cell_type": "code",
   "execution_count": 113,
   "metadata": {},
   "outputs": [
    {
     "data": {
      "text/html": [
       "<div>\n",
       "<style scoped>\n",
       "    .dataframe tbody tr th:only-of-type {\n",
       "        vertical-align: middle;\n",
       "    }\n",
       "\n",
       "    .dataframe tbody tr th {\n",
       "        vertical-align: top;\n",
       "    }\n",
       "\n",
       "    .dataframe thead th {\n",
       "        text-align: right;\n",
       "    }\n",
       "</style>\n",
       "<table border=\"1\" class=\"dataframe\">\n",
       "  <thead>\n",
       "    <tr style=\"text-align: right;\">\n",
       "      <th></th>\n",
       "      <th>year</th>\n",
       "      <th>rainfall_mm</th>\n",
       "      <th>temp_C</th>\n",
       "      <th>country</th>\n",
       "    </tr>\n",
       "  </thead>\n",
       "  <tbody>\n",
       "    <tr>\n",
       "      <th>0</th>\n",
       "      <td>1901</td>\n",
       "      <td>89.739784</td>\n",
       "      <td>8.163601</td>\n",
       "      <td>GBR</td>\n",
       "    </tr>\n",
       "    <tr>\n",
       "      <th>1</th>\n",
       "      <td>1902</td>\n",
       "      <td>84.223152</td>\n",
       "      <td>7.798388</td>\n",
       "      <td>GBR</td>\n",
       "    </tr>\n",
       "    <tr>\n",
       "      <th>2</th>\n",
       "      <td>1903</td>\n",
       "      <td>119.318466</td>\n",
       "      <td>8.028578</td>\n",
       "      <td>GBR</td>\n",
       "    </tr>\n",
       "    <tr>\n",
       "      <th>3</th>\n",
       "      <td>1904</td>\n",
       "      <td>91.663483</td>\n",
       "      <td>8.073899</td>\n",
       "      <td>GBR</td>\n",
       "    </tr>\n",
       "    <tr>\n",
       "      <th>4</th>\n",
       "      <td>1905</td>\n",
       "      <td>89.656570</td>\n",
       "      <td>8.185888</td>\n",
       "      <td>GBR</td>\n",
       "    </tr>\n",
       "    <tr>\n",
       "      <th>...</th>\n",
       "      <td>...</td>\n",
       "      <td>...</td>\n",
       "      <td>...</td>\n",
       "      <td>...</td>\n",
       "    </tr>\n",
       "    <tr>\n",
       "      <th>107</th>\n",
       "      <td>2008</td>\n",
       "      <td>116.024879</td>\n",
       "      <td>9.148782</td>\n",
       "      <td>GBR</td>\n",
       "    </tr>\n",
       "    <tr>\n",
       "      <th>108</th>\n",
       "      <td>2009</td>\n",
       "      <td>114.085571</td>\n",
       "      <td>9.309748</td>\n",
       "      <td>GBR</td>\n",
       "    </tr>\n",
       "    <tr>\n",
       "      <th>109</th>\n",
       "      <td>2010</td>\n",
       "      <td>90.668747</td>\n",
       "      <td>8.206399</td>\n",
       "      <td>GBR</td>\n",
       "    </tr>\n",
       "    <tr>\n",
       "      <th>110</th>\n",
       "      <td>2011</td>\n",
       "      <td>106.080399</td>\n",
       "      <td>9.608891</td>\n",
       "      <td>GBR</td>\n",
       "    </tr>\n",
       "    <tr>\n",
       "      <th>111</th>\n",
       "      <td>2012</td>\n",
       "      <td>118.431992</td>\n",
       "      <td>8.891592</td>\n",
       "      <td>GBR</td>\n",
       "    </tr>\n",
       "  </tbody>\n",
       "</table>\n",
       "<p>112 rows × 4 columns</p>\n",
       "</div>"
      ],
      "text/plain": [
       "     year  rainfall_mm    temp_C country\n",
       "0    1901    89.739784  8.163601     GBR\n",
       "1    1902    84.223152  7.798388     GBR\n",
       "2    1903   119.318466  8.028578     GBR\n",
       "3    1904    91.663483  8.073899     GBR\n",
       "4    1905    89.656570  8.185888     GBR\n",
       "..    ...          ...       ...     ...\n",
       "107  2008   116.024879  9.148782     GBR\n",
       "108  2009   114.085571  9.309748     GBR\n",
       "109  2010    90.668747  8.206399     GBR\n",
       "110  2011   106.080399  9.608891     GBR\n",
       "111  2012   118.431992  8.891592     GBR\n",
       "\n",
       "[112 rows x 4 columns]"
      ]
     },
     "execution_count": 113,
     "metadata": {},
     "output_type": "execute_result"
    }
   ],
   "source": [
    "# parsing yearly temperature and rainfall data for Great briatin or UK\n",
    "gb1 = pd.read_csv('GBR-pr.csv')\n",
    "gb1 = gb1.rename(columns={'data':'rainfall_mm'})\n",
    "gb2 = pd.read_csv('GBR-tas.csv')\n",
    "gb2 = gb2.rename(columns={'data':'temp_C'})\n",
    "gb = gb1.merge(gb2,on='year',how='left')\n",
    "gb['country'] = 'GBR'\n",
    "gb"
   ]
  },
  {
   "cell_type": "code",
   "execution_count": 114,
   "metadata": {},
   "outputs": [
    {
     "data": {
      "text/html": [
       "<div>\n",
       "<style scoped>\n",
       "    .dataframe tbody tr th:only-of-type {\n",
       "        vertical-align: middle;\n",
       "    }\n",
       "\n",
       "    .dataframe tbody tr th {\n",
       "        vertical-align: top;\n",
       "    }\n",
       "\n",
       "    .dataframe thead th {\n",
       "        text-align: right;\n",
       "    }\n",
       "</style>\n",
       "<table border=\"1\" class=\"dataframe\">\n",
       "  <thead>\n",
       "    <tr style=\"text-align: right;\">\n",
       "      <th></th>\n",
       "      <th>year</th>\n",
       "      <th>rainfall_mm</th>\n",
       "      <th>temp_C</th>\n",
       "      <th>country</th>\n",
       "    </tr>\n",
       "  </thead>\n",
       "  <tbody>\n",
       "    <tr>\n",
       "      <th>0</th>\n",
       "      <td>1901</td>\n",
       "      <td>78.794868</td>\n",
       "      <td>23.736393</td>\n",
       "      <td>IND</td>\n",
       "    </tr>\n",
       "    <tr>\n",
       "      <th>1</th>\n",
       "      <td>1902</td>\n",
       "      <td>84.403305</td>\n",
       "      <td>23.920109</td>\n",
       "      <td>IND</td>\n",
       "    </tr>\n",
       "    <tr>\n",
       "      <th>2</th>\n",
       "      <td>1903</td>\n",
       "      <td>91.743271</td>\n",
       "      <td>23.434696</td>\n",
       "      <td>IND</td>\n",
       "    </tr>\n",
       "    <tr>\n",
       "      <th>3</th>\n",
       "      <td>1904</td>\n",
       "      <td>80.097961</td>\n",
       "      <td>23.456589</td>\n",
       "      <td>IND</td>\n",
       "    </tr>\n",
       "    <tr>\n",
       "      <th>4</th>\n",
       "      <td>1905</td>\n",
       "      <td>78.166786</td>\n",
       "      <td>23.266140</td>\n",
       "      <td>IND</td>\n",
       "    </tr>\n",
       "    <tr>\n",
       "      <th>...</th>\n",
       "      <td>...</td>\n",
       "      <td>...</td>\n",
       "      <td>...</td>\n",
       "      <td>...</td>\n",
       "    </tr>\n",
       "    <tr>\n",
       "      <th>107</th>\n",
       "      <td>2008</td>\n",
       "      <td>91.581902</td>\n",
       "      <td>24.211040</td>\n",
       "      <td>IND</td>\n",
       "    </tr>\n",
       "    <tr>\n",
       "      <th>108</th>\n",
       "      <td>2009</td>\n",
       "      <td>80.215408</td>\n",
       "      <td>24.915022</td>\n",
       "      <td>IND</td>\n",
       "    </tr>\n",
       "    <tr>\n",
       "      <th>109</th>\n",
       "      <td>2010</td>\n",
       "      <td>107.658775</td>\n",
       "      <td>23.926294</td>\n",
       "      <td>IND</td>\n",
       "    </tr>\n",
       "    <tr>\n",
       "      <th>110</th>\n",
       "      <td>2011</td>\n",
       "      <td>94.529160</td>\n",
       "      <td>23.369070</td>\n",
       "      <td>IND</td>\n",
       "    </tr>\n",
       "    <tr>\n",
       "      <th>111</th>\n",
       "      <td>2012</td>\n",
       "      <td>92.322510</td>\n",
       "      <td>23.309038</td>\n",
       "      <td>IND</td>\n",
       "    </tr>\n",
       "  </tbody>\n",
       "</table>\n",
       "<p>112 rows × 4 columns</p>\n",
       "</div>"
      ],
      "text/plain": [
       "     year  rainfall_mm     temp_C country\n",
       "0    1901    78.794868  23.736393     IND\n",
       "1    1902    84.403305  23.920109     IND\n",
       "2    1903    91.743271  23.434696     IND\n",
       "3    1904    80.097961  23.456589     IND\n",
       "4    1905    78.166786  23.266140     IND\n",
       "..    ...          ...        ...     ...\n",
       "107  2008    91.581902  24.211040     IND\n",
       "108  2009    80.215408  24.915022     IND\n",
       "109  2010   107.658775  23.926294     IND\n",
       "110  2011    94.529160  23.369070     IND\n",
       "111  2012    92.322510  23.309038     IND\n",
       "\n",
       "[112 rows x 4 columns]"
      ]
     },
     "execution_count": 114,
     "metadata": {},
     "output_type": "execute_result"
    }
   ],
   "source": [
    "# parsing yearly temperature and rainfall data for India\n",
    "ind1 = pd.read_csv('IND-pr.csv')\n",
    "ind1 = ind1.rename(columns={'data':'rainfall_mm'})\n",
    "ind2 = pd.read_csv('IND-tas.csv')\n",
    "ind2 = ind2.rename(columns={'data':'temp_C'})\n",
    "ind = ind1.merge(ind2,on='year',how='left')\n",
    "ind['country'] = 'IND'\n",
    "ind"
   ]
  },
  {
   "cell_type": "code",
   "execution_count": 115,
   "metadata": {},
   "outputs": [
    {
     "data": {
      "text/html": [
       "<div>\n",
       "<style scoped>\n",
       "    .dataframe tbody tr th:only-of-type {\n",
       "        vertical-align: middle;\n",
       "    }\n",
       "\n",
       "    .dataframe tbody tr th {\n",
       "        vertical-align: top;\n",
       "    }\n",
       "\n",
       "    .dataframe thead th {\n",
       "        text-align: right;\n",
       "    }\n",
       "</style>\n",
       "<table border=\"1\" class=\"dataframe\">\n",
       "  <thead>\n",
       "    <tr style=\"text-align: right;\">\n",
       "      <th></th>\n",
       "      <th>year</th>\n",
       "      <th>rainfall_mm</th>\n",
       "      <th>temp_C</th>\n",
       "      <th>country</th>\n",
       "    </tr>\n",
       "  </thead>\n",
       "  <tbody>\n",
       "    <tr>\n",
       "      <th>0</th>\n",
       "      <td>1901</td>\n",
       "      <td>147.834610</td>\n",
       "      <td>24.896547</td>\n",
       "      <td>BRA</td>\n",
       "    </tr>\n",
       "    <tr>\n",
       "      <th>1</th>\n",
       "      <td>1902</td>\n",
       "      <td>146.871475</td>\n",
       "      <td>25.091810</td>\n",
       "      <td>BRA</td>\n",
       "    </tr>\n",
       "    <tr>\n",
       "      <th>2</th>\n",
       "      <td>1903</td>\n",
       "      <td>145.657379</td>\n",
       "      <td>24.896107</td>\n",
       "      <td>BRA</td>\n",
       "    </tr>\n",
       "    <tr>\n",
       "      <th>3</th>\n",
       "      <td>1904</td>\n",
       "      <td>146.214066</td>\n",
       "      <td>24.527473</td>\n",
       "      <td>BRA</td>\n",
       "    </tr>\n",
       "    <tr>\n",
       "      <th>4</th>\n",
       "      <td>1905</td>\n",
       "      <td>149.617096</td>\n",
       "      <td>24.840496</td>\n",
       "      <td>BRA</td>\n",
       "    </tr>\n",
       "    <tr>\n",
       "      <th>...</th>\n",
       "      <td>...</td>\n",
       "      <td>...</td>\n",
       "      <td>...</td>\n",
       "      <td>...</td>\n",
       "    </tr>\n",
       "    <tr>\n",
       "      <th>107</th>\n",
       "      <td>2008</td>\n",
       "      <td>158.684723</td>\n",
       "      <td>25.218435</td>\n",
       "      <td>BRA</td>\n",
       "    </tr>\n",
       "    <tr>\n",
       "      <th>108</th>\n",
       "      <td>2009</td>\n",
       "      <td>159.890503</td>\n",
       "      <td>25.496075</td>\n",
       "      <td>BRA</td>\n",
       "    </tr>\n",
       "    <tr>\n",
       "      <th>109</th>\n",
       "      <td>2010</td>\n",
       "      <td>150.251816</td>\n",
       "      <td>25.681717</td>\n",
       "      <td>BRA</td>\n",
       "    </tr>\n",
       "    <tr>\n",
       "      <th>110</th>\n",
       "      <td>2011</td>\n",
       "      <td>154.514954</td>\n",
       "      <td>25.390158</td>\n",
       "      <td>BRA</td>\n",
       "    </tr>\n",
       "    <tr>\n",
       "      <th>111</th>\n",
       "      <td>2012</td>\n",
       "      <td>139.948105</td>\n",
       "      <td>25.582172</td>\n",
       "      <td>BRA</td>\n",
       "    </tr>\n",
       "  </tbody>\n",
       "</table>\n",
       "<p>112 rows × 4 columns</p>\n",
       "</div>"
      ],
      "text/plain": [
       "     year  rainfall_mm     temp_C country\n",
       "0    1901   147.834610  24.896547     BRA\n",
       "1    1902   146.871475  25.091810     BRA\n",
       "2    1903   145.657379  24.896107     BRA\n",
       "3    1904   146.214066  24.527473     BRA\n",
       "4    1905   149.617096  24.840496     BRA\n",
       "..    ...          ...        ...     ...\n",
       "107  2008   158.684723  25.218435     BRA\n",
       "108  2009   159.890503  25.496075     BRA\n",
       "109  2010   150.251816  25.681717     BRA\n",
       "110  2011   154.514954  25.390158     BRA\n",
       "111  2012   139.948105  25.582172     BRA\n",
       "\n",
       "[112 rows x 4 columns]"
      ]
     },
     "execution_count": 115,
     "metadata": {},
     "output_type": "execute_result"
    }
   ],
   "source": [
    "# parsing yearly temperature and rainfall data for Brazil\n",
    "br1 = pd.read_csv('BRA-pr.csv')\n",
    "br1 = br1.rename(columns={'data':'rainfall_mm'})\n",
    "br2 = pd.read_csv('BRA-tas.csv')\n",
    "br2 = br2.rename(columns={'data':'temp_C'})\n",
    "br = br1.merge(br2,on='year',how='left')\n",
    "br['country'] = 'BRA'\n",
    "br"
   ]
  },
  {
   "cell_type": "markdown",
   "metadata": {},
   "source": [
    "#### Combining datasets into one dataframe"
   ]
  },
  {
   "cell_type": "code",
   "execution_count": 116,
   "metadata": {},
   "outputs": [
    {
     "data": {
      "text/html": [
       "<div>\n",
       "<style scoped>\n",
       "    .dataframe tbody tr th:only-of-type {\n",
       "        vertical-align: middle;\n",
       "    }\n",
       "\n",
       "    .dataframe tbody tr th {\n",
       "        vertical-align: top;\n",
       "    }\n",
       "\n",
       "    .dataframe thead th {\n",
       "        text-align: right;\n",
       "    }\n",
       "</style>\n",
       "<table border=\"1\" class=\"dataframe\">\n",
       "  <thead>\n",
       "    <tr style=\"text-align: right;\">\n",
       "      <th></th>\n",
       "      <th>year</th>\n",
       "      <th>rainfall_mm</th>\n",
       "      <th>temp_C</th>\n",
       "      <th>country</th>\n",
       "    </tr>\n",
       "  </thead>\n",
       "  <tbody>\n",
       "    <tr>\n",
       "      <th>0</th>\n",
       "      <td>1901</td>\n",
       "      <td>36.893700</td>\n",
       "      <td>21.357021</td>\n",
       "      <td>AUS</td>\n",
       "    </tr>\n",
       "    <tr>\n",
       "      <th>1</th>\n",
       "      <td>1902</td>\n",
       "      <td>27.890614</td>\n",
       "      <td>21.382462</td>\n",
       "      <td>AUS</td>\n",
       "    </tr>\n",
       "    <tr>\n",
       "      <th>2</th>\n",
       "      <td>1903</td>\n",
       "      <td>43.456768</td>\n",
       "      <td>20.936884</td>\n",
       "      <td>AUS</td>\n",
       "    </tr>\n",
       "    <tr>\n",
       "      <th>3</th>\n",
       "      <td>1904</td>\n",
       "      <td>39.251026</td>\n",
       "      <td>20.791357</td>\n",
       "      <td>AUS</td>\n",
       "    </tr>\n",
       "    <tr>\n",
       "      <th>4</th>\n",
       "      <td>1905</td>\n",
       "      <td>30.674429</td>\n",
       "      <td>20.954510</td>\n",
       "      <td>AUS</td>\n",
       "    </tr>\n",
       "    <tr>\n",
       "      <th>...</th>\n",
       "      <td>...</td>\n",
       "      <td>...</td>\n",
       "      <td>...</td>\n",
       "      <td>...</td>\n",
       "    </tr>\n",
       "    <tr>\n",
       "      <th>555</th>\n",
       "      <td>2008</td>\n",
       "      <td>158.684723</td>\n",
       "      <td>25.218435</td>\n",
       "      <td>BRA</td>\n",
       "    </tr>\n",
       "    <tr>\n",
       "      <th>556</th>\n",
       "      <td>2009</td>\n",
       "      <td>159.890503</td>\n",
       "      <td>25.496075</td>\n",
       "      <td>BRA</td>\n",
       "    </tr>\n",
       "    <tr>\n",
       "      <th>557</th>\n",
       "      <td>2010</td>\n",
       "      <td>150.251816</td>\n",
       "      <td>25.681717</td>\n",
       "      <td>BRA</td>\n",
       "    </tr>\n",
       "    <tr>\n",
       "      <th>558</th>\n",
       "      <td>2011</td>\n",
       "      <td>154.514954</td>\n",
       "      <td>25.390158</td>\n",
       "      <td>BRA</td>\n",
       "    </tr>\n",
       "    <tr>\n",
       "      <th>559</th>\n",
       "      <td>2012</td>\n",
       "      <td>139.948105</td>\n",
       "      <td>25.582172</td>\n",
       "      <td>BRA</td>\n",
       "    </tr>\n",
       "  </tbody>\n",
       "</table>\n",
       "<p>560 rows × 4 columns</p>\n",
       "</div>"
      ],
      "text/plain": [
       "     year  rainfall_mm     temp_C country\n",
       "0    1901    36.893700  21.357021     AUS\n",
       "1    1902    27.890614  21.382462     AUS\n",
       "2    1903    43.456768  20.936884     AUS\n",
       "3    1904    39.251026  20.791357     AUS\n",
       "4    1905    30.674429  20.954510     AUS\n",
       "..    ...          ...        ...     ...\n",
       "555  2008   158.684723  25.218435     BRA\n",
       "556  2009   159.890503  25.496075     BRA\n",
       "557  2010   150.251816  25.681717     BRA\n",
       "558  2011   154.514954  25.390158     BRA\n",
       "559  2012   139.948105  25.582172     BRA\n",
       "\n",
       "[560 rows x 4 columns]"
      ]
     },
     "execution_count": 116,
     "metadata": {},
     "output_type": "execute_result"
    }
   ],
   "source": [
    "# combining temperature and rainfall of all countries into one dataframe\n",
    "df1 = au.append(us,ignore_index=True)\n",
    "df2 = df1.append(gb,ignore_index=True)\n",
    "df3 = df2.append(ind,ignore_index=True)\n",
    "df = df3.append(br,ignore_index=True)\n",
    "df"
   ]
  },
  {
   "cell_type": "markdown",
   "metadata": {},
   "source": [
    "#### Data Verification for cleaning and filtering"
   ]
  },
  {
   "cell_type": "code",
   "execution_count": 117,
   "metadata": {},
   "outputs": [
    {
     "name": "stdout",
     "output_type": "stream",
     "text": [
      "<class 'pandas.core.frame.DataFrame'>\n",
      "RangeIndex: 560 entries, 0 to 559\n",
      "Data columns (total 4 columns):\n",
      " #   Column       Non-Null Count  Dtype  \n",
      "---  ------       --------------  -----  \n",
      " 0   year         560 non-null    int64  \n",
      " 1   rainfall_mm  560 non-null    float64\n",
      " 2   temp_C       560 non-null    float64\n",
      " 3   country      560 non-null    object \n",
      "dtypes: float64(2), int64(1), object(1)\n",
      "memory usage: 17.6+ KB\n"
     ]
    }
   ],
   "source": [
    "# Checking of na values in columns and column data types\n",
    "df.info()"
   ]
  },
  {
   "cell_type": "code",
   "execution_count": 118,
   "metadata": {},
   "outputs": [
    {
     "data": {
      "text/plain": [
       "year           0\n",
       "rainfall_mm    0\n",
       "temp_C         0\n",
       "country        0\n",
       "dtype: int64"
      ]
     },
     "execution_count": 118,
     "metadata": {},
     "output_type": "execute_result"
    }
   ],
   "source": [
    "df.isna().sum()"
   ]
  },
  {
   "cell_type": "markdown",
   "metadata": {},
   "source": [
    "As seen from the missing values summary by attributes that there are no missing instances for any of the attributes and thus no data cleaning is performed here."
   ]
  },
  {
   "cell_type": "markdown",
   "metadata": {},
   "source": [
    "#### Data saving"
   ]
  },
  {
   "cell_type": "code",
   "execution_count": 119,
   "metadata": {},
   "outputs": [],
   "source": [
    "# saving dataframe to csv file\n",
    "df.to_csv('climate_all_5.csv',index=False)"
   ]
  },
  {
   "cell_type": "markdown",
   "metadata": {},
   "source": [
    "### Data Analysis"
   ]
  },
  {
   "cell_type": "markdown",
   "metadata": {},
   "source": [
    "#### Data loading"
   ]
  },
  {
   "cell_type": "code",
   "execution_count": 120,
   "metadata": {},
   "outputs": [
    {
     "data": {
      "text/html": [
       "<div>\n",
       "<style scoped>\n",
       "    .dataframe tbody tr th:only-of-type {\n",
       "        vertical-align: middle;\n",
       "    }\n",
       "\n",
       "    .dataframe tbody tr th {\n",
       "        vertical-align: top;\n",
       "    }\n",
       "\n",
       "    .dataframe thead th {\n",
       "        text-align: right;\n",
       "    }\n",
       "</style>\n",
       "<table border=\"1\" class=\"dataframe\">\n",
       "  <thead>\n",
       "    <tr style=\"text-align: right;\">\n",
       "      <th></th>\n",
       "      <th>year</th>\n",
       "      <th>rainfall_mm</th>\n",
       "      <th>temp_C</th>\n",
       "      <th>country</th>\n",
       "    </tr>\n",
       "  </thead>\n",
       "  <tbody>\n",
       "    <tr>\n",
       "      <th>0</th>\n",
       "      <td>1901</td>\n",
       "      <td>36.893700</td>\n",
       "      <td>21.357021</td>\n",
       "      <td>AUS</td>\n",
       "    </tr>\n",
       "    <tr>\n",
       "      <th>1</th>\n",
       "      <td>1902</td>\n",
       "      <td>27.890614</td>\n",
       "      <td>21.382462</td>\n",
       "      <td>AUS</td>\n",
       "    </tr>\n",
       "    <tr>\n",
       "      <th>2</th>\n",
       "      <td>1903</td>\n",
       "      <td>43.456768</td>\n",
       "      <td>20.936884</td>\n",
       "      <td>AUS</td>\n",
       "    </tr>\n",
       "    <tr>\n",
       "      <th>3</th>\n",
       "      <td>1904</td>\n",
       "      <td>39.251026</td>\n",
       "      <td>20.791357</td>\n",
       "      <td>AUS</td>\n",
       "    </tr>\n",
       "    <tr>\n",
       "      <th>4</th>\n",
       "      <td>1905</td>\n",
       "      <td>30.674429</td>\n",
       "      <td>20.954510</td>\n",
       "      <td>AUS</td>\n",
       "    </tr>\n",
       "    <tr>\n",
       "      <th>...</th>\n",
       "      <td>...</td>\n",
       "      <td>...</td>\n",
       "      <td>...</td>\n",
       "      <td>...</td>\n",
       "    </tr>\n",
       "    <tr>\n",
       "      <th>555</th>\n",
       "      <td>2008</td>\n",
       "      <td>158.684723</td>\n",
       "      <td>25.218435</td>\n",
       "      <td>BRA</td>\n",
       "    </tr>\n",
       "    <tr>\n",
       "      <th>556</th>\n",
       "      <td>2009</td>\n",
       "      <td>159.890503</td>\n",
       "      <td>25.496075</td>\n",
       "      <td>BRA</td>\n",
       "    </tr>\n",
       "    <tr>\n",
       "      <th>557</th>\n",
       "      <td>2010</td>\n",
       "      <td>150.251816</td>\n",
       "      <td>25.681717</td>\n",
       "      <td>BRA</td>\n",
       "    </tr>\n",
       "    <tr>\n",
       "      <th>558</th>\n",
       "      <td>2011</td>\n",
       "      <td>154.514954</td>\n",
       "      <td>25.390158</td>\n",
       "      <td>BRA</td>\n",
       "    </tr>\n",
       "    <tr>\n",
       "      <th>559</th>\n",
       "      <td>2012</td>\n",
       "      <td>139.948105</td>\n",
       "      <td>25.582172</td>\n",
       "      <td>BRA</td>\n",
       "    </tr>\n",
       "  </tbody>\n",
       "</table>\n",
       "<p>560 rows × 4 columns</p>\n",
       "</div>"
      ],
      "text/plain": [
       "     year  rainfall_mm     temp_C country\n",
       "0    1901    36.893700  21.357021     AUS\n",
       "1    1902    27.890614  21.382462     AUS\n",
       "2    1903    43.456768  20.936884     AUS\n",
       "3    1904    39.251026  20.791357     AUS\n",
       "4    1905    30.674429  20.954510     AUS\n",
       "..    ...          ...        ...     ...\n",
       "555  2008   158.684723  25.218435     BRA\n",
       "556  2009   159.890503  25.496075     BRA\n",
       "557  2010   150.251816  25.681717     BRA\n",
       "558  2011   154.514954  25.390158     BRA\n",
       "559  2012   139.948105  25.582172     BRA\n",
       "\n",
       "[560 rows x 4 columns]"
      ]
     },
     "execution_count": 120,
     "metadata": {},
     "output_type": "execute_result"
    }
   ],
   "source": [
    "# loading the dataset from saved csv file\n",
    "df = pd.read_csv('climate_all_5.csv')\n",
    "df"
   ]
  },
  {
   "cell_type": "markdown",
   "metadata": {},
   "source": [
    "#### Temperature Analysis"
   ]
  },
  {
   "cell_type": "code",
   "execution_count": 121,
   "metadata": {},
   "outputs": [],
   "source": [
    "# function for printing temperature statistics for each country in a table\n",
    "c_names = ['AUS','USA','GBR','IND','BRA']\n",
    "def compute_stats(col_name):\n",
    "    rows = []\n",
    "    # filtering each country to calculate their statistics of precipitation and temperature in a loop\n",
    "    for name in c_names:\n",
    "        row = {\"Country\": name}\n",
    "        row[\"Min\"] = df[df['country'] == name][col_name].min() \n",
    "        row[\"Max\"] = df[df['country'] == name][col_name].max()\n",
    "        row[\"Mean\"] = df[df['country'] == name][col_name].mean()\n",
    "        row[\"Median\"] = df[df['country'] == name][col_name].median()\n",
    "        rows.append(row)\n",
    "    return pd.DataFrame(rows).set_index(\"Country\")"
   ]
  },
  {
   "cell_type": "code",
   "execution_count": 122,
   "metadata": {},
   "outputs": [
    {
     "name": "stdout",
     "output_type": "stream",
     "text": [
      "Temperature statistics of three countries:\n"
     ]
    },
    {
     "data": {
      "text/html": [
       "<div>\n",
       "<style scoped>\n",
       "    .dataframe tbody tr th:only-of-type {\n",
       "        vertical-align: middle;\n",
       "    }\n",
       "\n",
       "    .dataframe tbody tr th {\n",
       "        vertical-align: top;\n",
       "    }\n",
       "\n",
       "    .dataframe thead th {\n",
       "        text-align: right;\n",
       "    }\n",
       "</style>\n",
       "<table border=\"1\" class=\"dataframe\">\n",
       "  <thead>\n",
       "    <tr style=\"text-align: right;\">\n",
       "      <th></th>\n",
       "      <th>Min</th>\n",
       "      <th>Max</th>\n",
       "      <th>Mean</th>\n",
       "      <th>Median</th>\n",
       "    </tr>\n",
       "    <tr>\n",
       "      <th>Country</th>\n",
       "      <th></th>\n",
       "      <th></th>\n",
       "      <th></th>\n",
       "      <th></th>\n",
       "    </tr>\n",
       "  </thead>\n",
       "  <tbody>\n",
       "    <tr>\n",
       "      <th>AUS</th>\n",
       "      <td>20.515036</td>\n",
       "      <td>22.352182</td>\n",
       "      <td>21.332955</td>\n",
       "      <td>21.306381</td>\n",
       "    </tr>\n",
       "    <tr>\n",
       "      <th>USA</th>\n",
       "      <td>5.670571</td>\n",
       "      <td>8.045993</td>\n",
       "      <td>6.885805</td>\n",
       "      <td>6.845019</td>\n",
       "    </tr>\n",
       "    <tr>\n",
       "      <th>GBR</th>\n",
       "      <td>7.550864</td>\n",
       "      <td>9.706447</td>\n",
       "      <td>8.537723</td>\n",
       "      <td>8.442276</td>\n",
       "    </tr>\n",
       "    <tr>\n",
       "      <th>IND</th>\n",
       "      <td>22.957111</td>\n",
       "      <td>24.915022</td>\n",
       "      <td>23.799098</td>\n",
       "      <td>23.745583</td>\n",
       "    </tr>\n",
       "    <tr>\n",
       "      <th>BRA</th>\n",
       "      <td>24.081936</td>\n",
       "      <td>25.700729</td>\n",
       "      <td>24.861034</td>\n",
       "      <td>24.806185</td>\n",
       "    </tr>\n",
       "  </tbody>\n",
       "</table>\n",
       "</div>"
      ],
      "text/plain": [
       "               Min        Max       Mean     Median\n",
       "Country                                            \n",
       "AUS      20.515036  22.352182  21.332955  21.306381\n",
       "USA       5.670571   8.045993   6.885805   6.845019\n",
       "GBR       7.550864   9.706447   8.537723   8.442276\n",
       "IND      22.957111  24.915022  23.799098  23.745583\n",
       "BRA      24.081936  25.700729  24.861034  24.806185"
      ]
     },
     "execution_count": 122,
     "metadata": {},
     "output_type": "execute_result"
    }
   ],
   "source": [
    "# Printing temperature statistics for countries\n",
    "df_temp_stats = compute_stats(\"temp_C\")\n",
    "print('Temperature statistics of three countries:')\n",
    "df_temp_stats"
   ]
  },
  {
   "cell_type": "markdown",
   "metadata": {},
   "source": [
    "A clear temperature difference is observed between USA, GBR and others as the statistics are signficantly differnet. However, the difference are not signficant between USA and GBR and so as among IND, BRA and AUS."
   ]
  },
  {
   "cell_type": "code",
   "execution_count": 123,
   "metadata": {},
   "outputs": [
    {
     "data": {
      "image/png": "[encoded data removed]",
      "text/plain": [
       "<Figure size 432x288 with 1 Axes>"
      ]
     },
     "metadata": {
      "needs_background": "light"
     },
     "output_type": "display_data"
    }
   ],
   "source": [
    "# ranges of temperature for five countries\n",
    "temp_range = df_temp_stats['Max'] - df_temp_stats['Min']\n",
    "temp_range.plot.bar()\n",
    "plt.title('Range of temperature variation for different countries')\n",
    "plt.xlabel('Country')\n",
    "plt.grid()\n",
    "plt.ylabel('Temperature in degree C')\n",
    "plt.show()"
   ]
  },
  {
   "cell_type": "markdown",
   "metadata": {},
   "source": [
    "The range of temperature variation is maximum for USA and minimum for Brazil. "
   ]
  },
  {
   "cell_type": "code",
   "execution_count": 124,
   "metadata": {},
   "outputs": [
    {
     "data": {
      "image/png": "[encoded data removed]",
      "text/plain": [
       "<Figure size 432x288 with 1 Axes>"
      ]
     },
     "metadata": {
      "needs_background": "light"
     },
     "output_type": "display_data"
    }
   ],
   "source": [
    "# raw yearly temperature plot for five different countries\n",
    "plt.plot(df[df['country'] == 'AUS']['year'],df[df['country'] == 'AUS']['temp_C'])\n",
    "plt.plot(df[df['country'] == 'USA']['year'],df[df['country'] == 'USA']['temp_C'])\n",
    "plt.plot(df[df['country'] == 'GBR']['year'],df[df['country'] == 'GBR']['temp_C'])\n",
    "plt.plot(df[df['country'] == 'IND']['year'],df[df['country'] == 'IND']['temp_C'])\n",
    "plt.plot(df[df['country'] == 'BRA']['year'],df[df['country'] == 'BRA']['temp_C'])\n",
    "plt.legend(['AUS','USA','GBR','IND','BRA'])\n",
    "plt.title('Temperature over years in different countries')\n",
    "plt.grid()\n",
    "plt.show()"
   ]
  },
  {
   "cell_type": "markdown",
   "metadata": {},
   "source": [
    "Temperature is not found to vary in large scale for any of the countries in the period 1901 to 2012."
   ]
  },
  {
   "cell_type": "markdown",
   "metadata": {},
   "source": [
    "Histograms of temperatures for different countries"
   ]
  },
  {
   "cell_type": "code",
   "execution_count": 125,
   "metadata": {},
   "outputs": [
    {
     "data": {
      "image/png": "[encoded data removed]",
      "text/plain": [
       "<Figure size 432x288 with 1 Axes>"
      ]
     },
     "metadata": {
      "needs_background": "light"
     },
     "output_type": "display_data"
    }
   ],
   "source": [
    "# distribution of temperature for five countries\n",
    "sns.histplot(df, x=\"temp_C\", hue=\"country\", element=\"step\")\n",
    "plt.xlabel('Temperature in C')\n",
    "plt.title('Distribution of temperature for different countries')\n",
    "plt.grid()\n",
    "plt.show()"
   ]
  },
  {
   "cell_type": "markdown",
   "metadata": {},
   "source": [
    "Boxplots of temperatures for different countries"
   ]
  },
  {
   "cell_type": "code",
   "execution_count": 126,
   "metadata": {},
   "outputs": [
    {
     "data": {
      "image/png": "[encoded data removed]",
      "text/plain": [
       "<Figure size 432x288 with 1 Axes>"
      ]
     },
     "metadata": {
      "needs_background": "light"
     },
     "output_type": "display_data"
    }
   ],
   "source": [
    "sns.boxplot(x=\"temp_C\", y=\"country\", data=df)\n",
    "plt.xlabel('Temperature in C')\n",
    "plt.title('Boxplots of temperature for different countries')\n",
    "plt.grid()\n",
    "plt.show()"
   ]
  },
  {
   "cell_type": "markdown",
   "metadata": {},
   "source": [
    "Distribution of temperature shows USA and UK has a similar temperature distribution and their ranges are overlapping, whereas the distribution of temperature for Australia is different as it is right tailed and range is far above than other two countries. The distributions are different for Brazil, India and Australia, overalapping of distribution occurs between India and Brazil."
   ]
  },
  {
   "cell_type": "markdown",
   "metadata": {},
   "source": [
    "#### Precipitation Level Analysis"
   ]
  },
  {
   "cell_type": "code",
   "execution_count": 127,
   "metadata": {},
   "outputs": [
    {
     "name": "stdout",
     "output_type": "stream",
     "text": [
      "Rainfall statistics of three countries:\n"
     ]
    },
    {
     "data": {
      "text/html": [
       "<div>\n",
       "<style scoped>\n",
       "    .dataframe tbody tr th:only-of-type {\n",
       "        vertical-align: middle;\n",
       "    }\n",
       "\n",
       "    .dataframe tbody tr th {\n",
       "        vertical-align: top;\n",
       "    }\n",
       "\n",
       "    .dataframe thead th {\n",
       "        text-align: right;\n",
       "    }\n",
       "</style>\n",
       "<table border=\"1\" class=\"dataframe\">\n",
       "  <thead>\n",
       "    <tr style=\"text-align: right;\">\n",
       "      <th></th>\n",
       "      <th>Min</th>\n",
       "      <th>Max</th>\n",
       "      <th>Mean</th>\n",
       "      <th>Median</th>\n",
       "    </tr>\n",
       "    <tr>\n",
       "      <th>Country</th>\n",
       "      <th></th>\n",
       "      <th></th>\n",
       "      <th></th>\n",
       "      <th></th>\n",
       "    </tr>\n",
       "  </thead>\n",
       "  <tbody>\n",
       "    <tr>\n",
       "      <th>AUS</th>\n",
       "      <td>27.890614</td>\n",
       "      <td>59.149860</td>\n",
       "      <td>38.414010</td>\n",
       "      <td>38.159483</td>\n",
       "    </tr>\n",
       "    <tr>\n",
       "      <th>USA</th>\n",
       "      <td>47.451641</td>\n",
       "      <td>61.518097</td>\n",
       "      <td>55.299597</td>\n",
       "      <td>55.579849</td>\n",
       "    </tr>\n",
       "    <tr>\n",
       "      <th>GBR</th>\n",
       "      <td>79.831444</td>\n",
       "      <td>119.554482</td>\n",
       "      <td>101.495182</td>\n",
       "      <td>100.761574</td>\n",
       "    </tr>\n",
       "    <tr>\n",
       "      <th>IND</th>\n",
       "      <td>72.834724</td>\n",
       "      <td>107.699196</td>\n",
       "      <td>89.685081</td>\n",
       "      <td>89.460911</td>\n",
       "    </tr>\n",
       "    <tr>\n",
       "      <th>BRA</th>\n",
       "      <td>129.670456</td>\n",
       "      <td>164.984314</td>\n",
       "      <td>146.207370</td>\n",
       "      <td>145.973450</td>\n",
       "    </tr>\n",
       "  </tbody>\n",
       "</table>\n",
       "</div>"
      ],
      "text/plain": [
       "                Min         Max        Mean      Median\n",
       "Country                                                \n",
       "AUS       27.890614   59.149860   38.414010   38.159483\n",
       "USA       47.451641   61.518097   55.299597   55.579849\n",
       "GBR       79.831444  119.554482  101.495182  100.761574\n",
       "IND       72.834724  107.699196   89.685081   89.460911\n",
       "BRA      129.670456  164.984314  146.207370  145.973450"
      ]
     },
     "execution_count": 127,
     "metadata": {},
     "output_type": "execute_result"
    }
   ],
   "source": [
    "# basic statistics of rainfall for five countries\n",
    "df_rain_stats = compute_stats(\"rainfall_mm\")\n",
    "print('Rainfall statistics of three countries:')\n",
    "df_rain_stats"
   ]
  },
  {
   "cell_type": "markdown",
   "metadata": {},
   "source": [
    "Precipitation statistics for Australia and USA are different but close, however, the statistics for UK is much more than the other two countries. Precipitation statistics are also found to be significantly different between India and Brazil and both with other countries."
   ]
  },
  {
   "cell_type": "code",
   "execution_count": 128,
   "metadata": {},
   "outputs": [
    {
     "data": {
      "image/png": "[encoded data removed]",
      "text/plain": [
       "<Figure size 432x288 with 1 Axes>"
      ]
     },
     "metadata": {
      "needs_background": "light"
     },
     "output_type": "display_data"
    }
   ],
   "source": [
    "# ranges of rainfall for five countries\n",
    "rain_range = df_rain_stats['Max'] - df_rain_stats['Min']\n",
    "rain_range.plot.bar()\n",
    "plt.title('Range of rainfall variation for different countries')\n",
    "plt.xlabel('Country')\n",
    "plt.grid()\n",
    "plt.ylabel('Rainfall in mm')\n",
    "plt.show()"
   ]
  },
  {
   "cell_type": "markdown",
   "metadata": {},
   "source": [
    "The widest rainfall range in mm is observed for UK and it is smallest for USA. Rainfall range is almost same for India (35 in mm) and Brazil(36 in mm) where it is about 32 in mm for Australia."
   ]
  },
  {
   "cell_type": "code",
   "execution_count": 129,
   "metadata": {},
   "outputs": [
    {
     "data": {
      "image/png": "[encoded data removed]",
      "text/plain": [
       "<Figure size 432x288 with 1 Axes>"
      ]
     },
     "metadata": {
      "needs_background": "light"
     },
     "output_type": "display_data"
    }
   ],
   "source": [
    "# raw yearly variation of rainfall for five different countries\n",
    "plt.plot(df[df['country'] == 'AUS']['year'],df[df['country'] == 'AUS']['rainfall_mm'])\n",
    "plt.plot(df[df['country'] == 'USA']['year'],df[df['country'] == 'USA']['rainfall_mm'])\n",
    "plt.plot(df[df['country'] == 'GBR']['year'],df[df['country'] == 'GBR']['rainfall_mm'])\n",
    "plt.plot(df[df['country'] == 'IND']['year'],df[df['country'] == 'IND']['rainfall_mm'])\n",
    "plt.plot(df[df['country'] == 'BRA']['year'],df[df['country'] == 'BRA']['rainfall_mm'])\n",
    "plt.legend(['AUS','USA','GBR','IND','BRA'])\n",
    "plt.title('Rainfall over years in different countries')\n",
    "plt.grid()\n",
    "plt.show()"
   ]
  },
  {
   "cell_type": "markdown",
   "metadata": {},
   "source": [
    "Yearly variation of rainfall is found to signficantly varying for UK, AUS, IND and BRA to some extent (with AUS being more evident), however, yearly fluctuation is minimal for USA."
   ]
  },
  {
   "cell_type": "markdown",
   "metadata": {},
   "source": [
    "Histograms of rainfall for different countries"
   ]
  },
  {
   "cell_type": "code",
   "execution_count": 130,
   "metadata": {},
   "outputs": [
    {
     "data": {
      "image/png": "[encoded data removed]",
      "text/plain": [
       "<Figure size 432x288 with 1 Axes>"
      ]
     },
     "metadata": {
      "needs_background": "light"
     },
     "output_type": "display_data"
    }
   ],
   "source": [
    "# distribution of rainfall for five countries\n",
    "sns.histplot(df, x=\"rainfall_mm\", hue=\"country\", element=\"step\")\n",
    "plt.xlabel('Rainfall in mm')\n",
    "plt.title('Distribution of Rainfall for different countries')\n",
    "plt.grid()\n",
    "plt.show()"
   ]
  },
  {
   "cell_type": "markdown",
   "metadata": {},
   "source": [
    "Boxplots of rainfall for different countries"
   ]
  },
  {
   "cell_type": "code",
   "execution_count": 131,
   "metadata": {},
   "outputs": [
    {
     "data": {
      "image/png": "[encoded data removed]",
      "text/plain": [
       "<Figure size 432x288 with 1 Axes>"
      ]
     },
     "metadata": {
      "needs_background": "light"
     },
     "output_type": "display_data"
    }
   ],
   "source": [
    "sns.boxplot(x=\"rainfall_mm\", y=\"country\", data=df)\n",
    "plt.xlabel('Temperature in C')\n",
    "plt.title('Boxplots of rainfall for different countries')\n",
    "plt.grid()\n",
    "plt.show()"
   ]
  },
  {
   "cell_type": "markdown",
   "metadata": {},
   "source": [
    "Distribution of rainfall is more or less similar for Australia and US and distributions are overlapping between the two countries. The distributions are also found to be similar and overlapping for India and UK. However, the distribution of rainfall in Brazil is not overlapping with any other countries."
   ]
  },
  {
   "cell_type": "markdown",
   "metadata": {},
   "source": [
    "#### Correlation Analysis"
   ]
  },
  {
   "cell_type": "code",
   "execution_count": 132,
   "metadata": {},
   "outputs": [
    {
     "data": {
      "image/png": "[encoded data removed]",
      "text/plain": [
       "<Figure size 432x288 with 1 Axes>"
      ]
     },
     "metadata": {
      "needs_background": "light"
     },
     "output_type": "display_data"
    }
   ],
   "source": [
    "# Scatterplot between temperature and rainfall for five different countries \n",
    "sns.scatterplot(data=df, x=\"temp_C\", y=\"rainfall_mm\", hue=\"country\", style=\"country\",s=50)\n",
    "plt.grid()\n",
    "plt.title('Scatterplot of rainfall and temperature grouped by country')\n",
    "plt.show()"
   ]
  },
  {
   "cell_type": "code",
   "execution_count": 133,
   "metadata": {},
   "outputs": [
    {
     "name": "stdout",
     "output_type": "stream",
     "text": [
      "Overall temperature vs rainfall distribuition for all countries\n"
     ]
    },
    {
     "data": {
      "image/png": "[encoded data removed]",
      "text/plain": [
       "<Figure size 432x432 with 3 Axes>"
      ]
     },
     "metadata": {
      "needs_background": "light"
     },
     "output_type": "display_data"
    }
   ],
   "source": [
    "print('Overall temperature vs rainfall distribuition for all countries')\n",
    "sns.jointplot(data= df,x = \"temp_C\", y = \"rainfall_mm\", kind='hex')\n",
    "plt.show()"
   ]
  },
  {
   "cell_type": "code",
   "execution_count": 134,
   "metadata": {},
   "outputs": [
    {
     "name": "stdout",
     "output_type": "stream",
     "text": [
      "Pearson Corrleation of precipitation and temperature in Australia: -0.1805\n",
      "Pearson Corrleation of precipitation and temperature in USA: 0.1717\n",
      "Pearson Corrleation of precipitation and temperature in Great Britain: 0.1437\n",
      "Pearson Corrleation of precipitation and temperature in India: -0.1995\n",
      "Pearson Corrleation of precipitation and temperature in Brazil: -0.0299\n"
     ]
    }
   ],
   "source": [
    "# Computing exact Pearson correlation coeffcient between the temperature and rainfall for each country\n",
    "print('Pearson Corrleation of precipitation and temperature in Australia: %.4f' %(np.corrcoef(df[df['country']=='AUS']\\\n",
    "                                                    ['temp_C'],df[df['country']=='AUS']['rainfall_mm'])[0][1]))\n",
    "print('Pearson Corrleation of precipitation and temperature in USA: %.4f' %(np.corrcoef(df[df['country']=='USA']\\\n",
    "                                                    ['temp_C'],df[df['country']=='USA']['rainfall_mm'])[0][1]))\n",
    "print('Pearson Corrleation of precipitation and temperature in Great Britain: %.4f' %(np.corrcoef(df[df['country']=='GBR']\\\n",
    "                                                    ['temp_C'],df[df['country']=='GBR']['rainfall_mm'])[0][1]))\n",
    "print('Pearson Corrleation of precipitation and temperature in India: %.4f' %(np.corrcoef(df[df['country']=='IND']\\\n",
    "                                                    ['temp_C'],df[df['country']=='IND']['rainfall_mm'])[0][1]))\n",
    "print('Pearson Corrleation of precipitation and temperature in Brazil: %.4f' %(np.corrcoef(df[df['country']=='BRA']\\\n",
    "                                                    ['temp_C'],df[df['country']=='BRA']['rainfall_mm'])[0][1]))"
   ]
  },
  {
   "cell_type": "markdown",
   "metadata": {},
   "source": [
    "Thus it is observed from scatterplot and correlation coeffcient values the relation between precipitation and temperature are not significant for any country, however, a slight positive correlation between the two are found for US and UK, whereas for Australia, India and Brazil the correlations are slightly negative."
   ]
  },
  {
   "cell_type": "markdown",
   "metadata": {},
   "source": [
    "### Conclusions"
   ]
  },
  {
   "cell_type": "markdown",
   "metadata": {},
   "source": [
    "Thus, in conclusion it is found from the data analysis of climate of five countries that temperature and precipation levels in the five countries are different as seen from their statistics and visuals. The difference in temperature is more evident among GBR-USA pair and the other countries as average temperature in these two are much lower than others. While for rainfall the difference is more evident among all countries as average rainfall are very different from each other. There is not much relation found between rainfall and temperature in any country and thus rainfall alone can not considered as a significant influencer or predictor for temperature. The climate data is collected as yearly average basis between years 1901 to 2012 as much challanges are faced to collect the after this period. Hence, the analysis result does not depict the current climate condition of the countries but a brief climate overview in recent past. Also, from the API no other climate information is found like wind speed, humidity, snowfall or other characteristics and thus there is a future scope to collect these information for the countries from other sources to produce a complete climate overview of the lands. There is also scope to collect more recent climate information in smaller period like daily or hourly basis which can be beneficial to produce a more detailed insights of climate characteristics in the countries or can be used to predict climate conditions in the near future."
   ]
  },
  {
   "cell_type": "code",
   "execution_count": null,
   "metadata": {},
   "outputs": [],
   "source": []
  }
 ],
 "metadata": {
  "kernelspec": {
   "display_name": "Python 3",
   "language": "python",
   "name": "python3"
  },
  "language_info": {
   "codemirror_mode": {
    "name": "ipython",
    "version": 3
   },
   "file_extension": ".py",
   "mimetype": "text/x-python",
   "name": "python",
   "nbconvert_exporter": "python",
   "pygments_lexer": "ipython3",
   "version": "3.8.8"
  }
 },
 "nbformat": 4,
 "nbformat_minor": 4
}
